{
 "cells": [
  {
   "cell_type": "code",
   "execution_count": null,
   "metadata": {},
   "outputs": [],
   "source": [
    "import pickle\n",
    "\n",
    "from train_model import train_step, test_step\n",
    "from utils.load_data import get_data\n",
    "from utils.make_dict import train_bow, get_bow"
   ]
  },
  {
   "cell_type": "code",
   "execution_count": null,
   "metadata": {},
   "outputs": [],
   "source": [
    "args ={'dataset': 'MNIST',\n",
    "       'dataroot': './data',\n",
    "       'model': 'custom_SVM',\n",
    "       'kernel': 'gaussian',\n",
    "       'validation': 0.1,\n",
    "       'C': 5.0,\n",
    "       'sigma': 1.0,\n",
    "       'batch': 1000,\n",
    "       'dict_size': 100,\n",
    "       'train': True,\n",
    "       'load_cluster': False,\n",
    "       'cuda': True,\n",
    "       'depth': 100,\n",
    "       'forest': 10,\n",
    "       'bag_size': 5000\n",
    "       }"
   ]
  },
  {
   "cell_type": "code",
   "execution_count": 3,
   "metadata": {},
   "outputs": [],
   "source": [
    "trainX, trainy = get_data(dataset=args['dataset'], train=True, dataroot=args['dataroot'])\n",
    "\n",
    "if args['dataset'] == 'cifar10':\n",
    "    trainX = trainX.reshape((-1, 32, 32, 3), order='F')\n",
    "\n",
    "if args['load_cluster']:\n",
    "    with open(\"./cluster.dump\", \"rb\") as f:\n",
    "        cluster = pickle.load(f)\n",
    "else:\n",
    "    cluster = train_bow(trainX, num_dict=args['dict_size'], num_select=10000)\n",
    "    with open(\"./cluster.dump\", \"wb\") as f:\n",
    "        pickle.dump(cluster, f)\n",
    "\n",
    "trainFeature = get_bow(trainX, cluster, num_dict=args['dict_size'])"
   ]
  },
  {
   "cell_type": "code",
   "execution_count": 4,
   "metadata": {},
   "outputs": [
    {
     "name": "stderr",
     "output_type": "stream",
     "text": [
      "100%|██████████| 10/10 [00:09<00:00,  1.02it/s]\n"
     ]
    },
    {
     "name": "stdout",
     "output_type": "stream",
     "text": [
      "C: 0.500000 Sigma: 0.010000 Train accuracy: 100.000000 Valid accuracy: 58.423333\n"
     ]
    },
    {
     "name": "stderr",
     "output_type": "stream",
     "text": [
      "100%|██████████| 10/10 [00:08<00:00,  1.15it/s]\n"
     ]
    },
    {
     "name": "stdout",
     "output_type": "stream",
     "text": [
      "C: 0.500000 Sigma: 0.500000 Train accuracy: 100.000000 Valid accuracy: 34.515000\n"
     ]
    },
    {
     "name": "stderr",
     "output_type": "stream",
     "text": [
      "100%|██████████| 10/10 [00:28<00:00,  2.84s/it]\n"
     ]
    },
    {
     "name": "stdout",
     "output_type": "stream",
     "text": [
      "C: 0.500000 Sigma: 1.000000 Train accuracy: 100.000000 Valid accuracy: 58.766667\n"
     ]
    },
    {
     "name": "stderr",
     "output_type": "stream",
     "text": [
      "100%|██████████| 10/10 [01:32<00:00,  9.24s/it]\n"
     ]
    },
    {
     "name": "stdout",
     "output_type": "stream",
     "text": [
      "C: 0.500000 Sigma: 5.000000 Train accuracy: 100.000000 Valid accuracy: 53.263333\n"
     ]
    },
    {
     "name": "stderr",
     "output_type": "stream",
     "text": [
      "100%|██████████| 10/10 [00:08<00:00,  1.19it/s]\n"
     ]
    },
    {
     "name": "stdout",
     "output_type": "stream",
     "text": [
      "C: 1.000000 Sigma: 0.010000 Train accuracy: 100.000000 Valid accuracy: 42.536667\n"
     ]
    },
    {
     "name": "stderr",
     "output_type": "stream",
     "text": [
      "100%|██████████| 10/10 [00:08<00:00,  1.13it/s]\n"
     ]
    },
    {
     "name": "stdout",
     "output_type": "stream",
     "text": [
      "C: 1.000000 Sigma: 0.500000 Train accuracy: 100.000000 Valid accuracy: 50.601667\n"
     ]
    },
    {
     "name": "stderr",
     "output_type": "stream",
     "text": [
      "100%|██████████| 10/10 [00:20<00:00,  2.08s/it]\n"
     ]
    },
    {
     "name": "stdout",
     "output_type": "stream",
     "text": [
      "C: 1.000000 Sigma: 1.000000 Train accuracy: 100.000000 Valid accuracy: 50.493333\n"
     ]
    },
    {
     "name": "stderr",
     "output_type": "stream",
     "text": [
      "100%|██████████| 10/10 [00:41<00:00,  4.13s/it]\n"
     ]
    },
    {
     "name": "stdout",
     "output_type": "stream",
     "text": [
      "C: 1.000000 Sigma: 5.000000 Train accuracy: 100.000000 Valid accuracy: 47.581667\n"
     ]
    },
    {
     "name": "stderr",
     "output_type": "stream",
     "text": [
      "100%|██████████| 10/10 [00:08<00:00,  1.23it/s]\n"
     ]
    },
    {
     "name": "stdout",
     "output_type": "stream",
     "text": [
      "C: 5.000000 Sigma: 0.010000 Train accuracy: 100.000000 Valid accuracy: 49.628333\n"
     ]
    },
    {
     "name": "stderr",
     "output_type": "stream",
     "text": [
      "100%|██████████| 10/10 [00:08<00:00,  1.18it/s]\n"
     ]
    },
    {
     "name": "stdout",
     "output_type": "stream",
     "text": [
      "C: 5.000000 Sigma: 0.500000 Train accuracy: 100.000000 Valid accuracy: 58.650000\n"
     ]
    },
    {
     "name": "stderr",
     "output_type": "stream",
     "text": [
      "100%|██████████| 10/10 [00:19<00:00,  1.97s/it]\n"
     ]
    },
    {
     "name": "stdout",
     "output_type": "stream",
     "text": [
      "C: 5.000000 Sigma: 1.000000 Train accuracy: 100.000000 Valid accuracy: 50.381667\n"
     ]
    },
    {
     "name": "stderr",
     "output_type": "stream",
     "text": [
      "100%|██████████| 10/10 [00:40<00:00,  4.06s/it]\n"
     ]
    },
    {
     "name": "stdout",
     "output_type": "stream",
     "text": [
      "C: 5.000000 Sigma: 5.000000 Train accuracy: 100.000000 Valid accuracy: 68.693333\n",
      "Best C: 5.000000 Best sigma: 5.000000\n"
     ]
    },
    {
     "name": "stderr",
     "output_type": "stream",
     "text": [
      "100%|██████████| 10/10 [00:40<00:00,  4.09s/it]\n"
     ]
    }
   ],
   "source": [
    "if args['model'] == 'custom_SVM' or args['model'] == 'sklearn_SVM':\n",
    "    hyper_C = [0.5, 1.0, 5.0]\n",
    "    hyper_sigma = [1e-2, 0.5, 1.0, 5.0] \n",
    "\n",
    "    best_C = None\n",
    "    best_sigma = None\n",
    "    best_valid = 0.0\n",
    "\n",
    "    for C in hyper_C:\n",
    "        for sigma in hyper_sigma:\n",
    "            # Test hyperparameter\n",
    "            args['C'] = C\n",
    "            args['sigma'] = sigma\n",
    "\n",
    "            # Get result\n",
    "            _, train_acc_list, valid_acc_list  = \\\n",
    "                train_step(args, trainFeature, trainy)\n",
    "\n",
    "            # Evaluation parameter\n",
    "            tra = sum(train_acc_list) / len(train_acc_list)\n",
    "            val = sum(valid_acc_list) / len(valid_acc_list)\n",
    "\n",
    "            if val > best_valid:\n",
    "                best_valid = val\n",
    "                best_C = C\n",
    "                best_sigma = sigma\n",
    "\n",
    "            # Print result\n",
    "            print(\"C: %f Sigma: %f Train accuracy: %f Valid accuracy: %f\"%(C, sigma, tra, val))\n",
    "\n",
    "    print(\"Best C: %f Best sigma: %f\"%(best_C, best_sigma))\n",
    "\n",
    "    args['C'] = best_C\n",
    "    args['sigma'] = best_sigma\n",
    "    args['part'] = False\n",
    "    models, train_acc_list, valid_acc_list = \\\n",
    "                train_step(args, trainFeature, trainy)\n",
    "else:\n",
    "    models, train_acc_list, valid_acc_list  = \\\n",
    "                train_step(args, trainFeature, trainy)"
   ]
  },
  {
   "cell_type": "code",
   "execution_count": 5,
   "metadata": {},
   "outputs": [],
   "source": [
    "testX, testy = get_data(dataset=args['dataset'], train=False, dataroot=args['dataroot'])\n",
    "if args['dataset'] == 'cifar10':\n",
    "    testX = testX.reshape((-1, 32, 32, 3), order='F')\n",
    "testFeature = get_bow(testX, cluster, num_dict=args['dict_size'])"
   ]
  },
  {
   "cell_type": "code",
   "execution_count": 6,
   "metadata": {},
   "outputs": [
    {
     "name": "stderr",
     "output_type": "stream",
     "text": [
      " 90%|█████████ | 9/10 [00:01<00:00,  8.39it/s]\n"
     ]
    }
   ],
   "source": [
    "test_acc_list, test_prec_list, test_recall_list, test_f1_list = test_step(args, testFeature, testy, models)"
   ]
  },
  {
   "cell_type": "code",
   "execution_count": 7,
   "metadata": {},
   "outputs": [
    {
     "name": "stdout",
     "output_type": "stream",
     "text": [
      "mA: 0.14984179723525187\n",
      "mP: 0.5714637159333498\n",
      "mR: 0.5085980668376291\n",
      "mF1: 0.21875357244287255\n"
     ]
    }
   ],
   "source": [
    "print(\"mA:\", sum(test_acc_list) / len(test_acc_list))\n",
    "print(\"mP:\", sum(test_prec_list) / len(test_prec_list))\n",
    "print(\"mR:\", sum(test_recall_list) / len(test_recall_list))\n",
    "print(\"mF1:\", sum(test_f1_list) / len(test_f1_list))"
   ]
  },
  {
   "cell_type": "code",
   "execution_count": 9,
   "metadata": {},
   "outputs": [
    {
     "data": {
      "text/plain": [
       "[0.002038715575548471,\n",
       " 0.8673928845596784,\n",
       " 0.20093550438071836,\n",
       " 0.08971856589582641,\n",
       " 0.19062236516322387,\n",
       " 0.21948648134411738,\n",
       " 0.18289257241570311,\n",
       " 0.19001676430294862,\n",
       " 0.004098319672336065,\n",
       " 0.24033355111862476]"
      ]
     },
     "execution_count": 9,
     "metadata": {},
     "output_type": "execute_result"
    }
   ],
   "source": [
    "test_f1_list"
   ]
  },
  {
   "cell_type": "code",
   "execution_count": null,
   "metadata": {},
   "outputs": [],
   "source": []
  }
 ],
 "metadata": {
  "interpreter": {
   "hash": "e12f6ab8f072a3343ec40e7c2da6d7bef24e88ada4fc34ffff4c29dc2d68ce9e"
  },
  "kernelspec": {
   "display_name": "Python [conda env:svm]",
   "language": "python",
   "name": "python3"
  },
  "language_info": {
   "codemirror_mode": {
    "name": "ipython",
    "version": 3
   },
   "file_extension": ".py",
   "mimetype": "text/x-python",
   "name": "python",
   "nbconvert_exporter": "python",
   "pygments_lexer": "ipython3",
   "version": "3.7.11"
  }
 },
 "nbformat": 4,
 "nbformat_minor": 2
}
