{
 "cells": [
  {
   "cell_type": "code",
   "execution_count": 10,
   "metadata": {},
   "outputs": [],
   "source": [
    "import pickle\n",
    "\n",
    "from train_model import train_step, test_step\n",
    "from utils.load_data import get_data\n",
    "from utils.make_dict import train_bow, get_bow"
   ]
  },
  {
   "cell_type": "code",
   "execution_count": 11,
   "metadata": {},
   "outputs": [],
   "source": [
    "args ={'dataset': 'cifar10',\n",
    "       'dataroot': './data',\n",
    "       'model': 'custom_SVM',\n",
    "       'kernel': 'gaussian',\n",
    "       'validation': 0.1,\n",
    "       'C': 5.0,\n",
    "       'sigma': 1.0,\n",
    "       'batch': 1000,\n",
    "       'dict_size': 100,\n",
    "       'train': True,\n",
    "       'load_cluster': False,\n",
    "       'cuda': True\n",
    "       }"
   ]
  },
  {
   "cell_type": "code",
   "execution_count": 12,
   "metadata": {},
   "outputs": [],
   "source": [
    "hyper_C = [0.8, 0.9, 0.95, 1.0, 1.25]\n",
    "hyper_sigma = [1.0, 1.25, 1.5] "
   ]
  },
  {
   "cell_type": "code",
   "execution_count": 14,
   "metadata": {},
   "outputs": [],
   "source": [
    "trainX, trainy = get_data(dataset=args['dataset'], train=True, dataroot=args['dataroot'])\n",
    "\n",
    "if args['dataset'] == 'cifar10':\n",
    "    trainX = trainX.reshape((-1, 32, 32, 3), order='F')\n",
    "\n",
    "if args['load_cluster']:\n",
    "    with open(\"./cluster.dump\", \"rb\") as f:\n",
    "        cluster = pickle.load(f)\n",
    "else:\n",
    "    cluster = train_bow(trainX, num_dict=args['dict_size'], num_select=10000)\n",
    "    with open(\"./cluster.dump\", \"wb\") as f:\n",
    "        pickle.dump(cluster, f)\n",
    "\n",
    "trainFeature = get_bow(trainX, cluster, num_dict=args['dict_size'])"
   ]
  },
  {
   "cell_type": "code",
   "execution_count": 15,
   "metadata": {},
   "outputs": [
    {
     "name": "stderr",
     "output_type": "stream",
     "text": [
      "100%|██████████| 10/10 [00:01<00:00,  5.05it/s]\n"
     ]
    },
    {
     "name": "stdout",
     "output_type": "stream",
     "text": [
      "C: 0.800000 Sigma: 1.000000 Train accuracy: 100.000000 Valid accuracy: 26.784000\n"
     ]
    },
    {
     "name": "stderr",
     "output_type": "stream",
     "text": [
      "100%|██████████| 10/10 [00:01<00:00,  5.90it/s]\n"
     ]
    },
    {
     "name": "stdout",
     "output_type": "stream",
     "text": [
      "C: 0.800000 Sigma: 1.250000 Train accuracy: 100.000000 Valid accuracy: 19.142000\n"
     ]
    },
    {
     "name": "stderr",
     "output_type": "stream",
     "text": [
      "100%|██████████| 10/10 [00:01<00:00,  5.68it/s]\n"
     ]
    },
    {
     "name": "stdout",
     "output_type": "stream",
     "text": [
      "C: 0.800000 Sigma: 1.500000 Train accuracy: 100.000000 Valid accuracy: 51.034000\n"
     ]
    },
    {
     "name": "stderr",
     "output_type": "stream",
     "text": [
      "100%|██████████| 10/10 [00:01<00:00,  5.81it/s]\n"
     ]
    },
    {
     "name": "stdout",
     "output_type": "stream",
     "text": [
      "C: 0.900000 Sigma: 1.000000 Train accuracy: 100.000000 Valid accuracy: 67.120000\n"
     ]
    },
    {
     "name": "stderr",
     "output_type": "stream",
     "text": [
      "100%|██████████| 10/10 [00:01<00:00,  5.72it/s]\n"
     ]
    },
    {
     "name": "stdout",
     "output_type": "stream",
     "text": [
      "C: 0.900000 Sigma: 1.250000 Train accuracy: 100.000000 Valid accuracy: 67.054000\n"
     ]
    },
    {
     "name": "stderr",
     "output_type": "stream",
     "text": [
      "100%|██████████| 10/10 [00:01<00:00,  5.63it/s]\n"
     ]
    },
    {
     "name": "stdout",
     "output_type": "stream",
     "text": [
      "C: 0.900000 Sigma: 1.500000 Train accuracy: 100.000000 Valid accuracy: 50.852000\n"
     ]
    },
    {
     "name": "stderr",
     "output_type": "stream",
     "text": [
      "100%|██████████| 10/10 [00:02<00:00,  4.59it/s]\n"
     ]
    },
    {
     "name": "stdout",
     "output_type": "stream",
     "text": [
      "C: 0.950000 Sigma: 1.000000 Train accuracy: 100.000000 Valid accuracy: 50.792000\n"
     ]
    },
    {
     "name": "stderr",
     "output_type": "stream",
     "text": [
      "100%|██████████| 10/10 [00:01<00:00,  5.73it/s]\n"
     ]
    },
    {
     "name": "stdout",
     "output_type": "stream",
     "text": [
      "C: 0.950000 Sigma: 1.250000 Train accuracy: 100.000000 Valid accuracy: 34.934000\n"
     ]
    },
    {
     "name": "stderr",
     "output_type": "stream",
     "text": [
      "100%|██████████| 10/10 [00:01<00:00,  5.75it/s]\n"
     ]
    },
    {
     "name": "stdout",
     "output_type": "stream",
     "text": [
      "C: 0.950000 Sigma: 1.500000 Train accuracy: 100.000000 Valid accuracy: 58.814000\n"
     ]
    },
    {
     "name": "stderr",
     "output_type": "stream",
     "text": [
      "100%|██████████| 10/10 [00:01<00:00,  5.86it/s]\n"
     ]
    },
    {
     "name": "stdout",
     "output_type": "stream",
     "text": [
      "C: 1.000000 Sigma: 1.000000 Train accuracy: 100.000000 Valid accuracy: 50.060000\n"
     ]
    },
    {
     "name": "stderr",
     "output_type": "stream",
     "text": [
      "100%|██████████| 10/10 [00:01<00:00,  5.79it/s]\n"
     ]
    },
    {
     "name": "stdout",
     "output_type": "stream",
     "text": [
      "C: 1.000000 Sigma: 1.250000 Train accuracy: 100.000000 Valid accuracy: 34.998000\n"
     ]
    },
    {
     "name": "stderr",
     "output_type": "stream",
     "text": [
      "100%|██████████| 10/10 [00:01<00:00,  5.78it/s]\n"
     ]
    },
    {
     "name": "stdout",
     "output_type": "stream",
     "text": [
      "C: 1.000000 Sigma: 1.500000 Train accuracy: 100.000000 Valid accuracy: 59.056000\n"
     ]
    },
    {
     "name": "stderr",
     "output_type": "stream",
     "text": [
      "100%|██████████| 10/10 [00:01<00:00,  5.89it/s]\n"
     ]
    },
    {
     "name": "stdout",
     "output_type": "stream",
     "text": [
      "C: 1.250000 Sigma: 1.000000 Train accuracy: 100.000000 Valid accuracy: 26.958000\n"
     ]
    },
    {
     "name": "stderr",
     "output_type": "stream",
     "text": [
      "100%|██████████| 10/10 [00:01<00:00,  5.91it/s]\n"
     ]
    },
    {
     "name": "stdout",
     "output_type": "stream",
     "text": [
      "C: 1.250000 Sigma: 1.250000 Train accuracy: 100.000000 Valid accuracy: 50.904000\n"
     ]
    },
    {
     "name": "stderr",
     "output_type": "stream",
     "text": [
      "100%|██████████| 10/10 [00:01<00:00,  5.90it/s]"
     ]
    },
    {
     "name": "stdout",
     "output_type": "stream",
     "text": [
      "C: 1.250000 Sigma: 1.500000 Train accuracy: 100.000000 Valid accuracy: 35.100000\n",
      "Best C: 0.900000 Best sigma: 1.000000\n"
     ]
    },
    {
     "name": "stderr",
     "output_type": "stream",
     "text": [
      "\n"
     ]
    }
   ],
   "source": [
    "best_C = None\n",
    "best_sigma = None\n",
    "best_valid = 0.0\n",
    "\n",
    "for C in hyper_C:\n",
    "    for sigma in hyper_sigma:\n",
    "        # Test hyperparameter\n",
    "        args['C'] = C\n",
    "        args['sigma'] = sigma\n",
    "\n",
    "        # Get result\n",
    "        _, train_acc_list, valid_acc_list  = \\\n",
    "            train_step(args, trainFeature, trainy)\n",
    "\n",
    "        # Evaluation parameter\n",
    "        tra = sum(train_acc_list) / len(train_acc_list)\n",
    "        val = sum(valid_acc_list) / len(valid_acc_list)\n",
    "\n",
    "        if val > best_valid:\n",
    "            best_valid = val\n",
    "            best_C = C\n",
    "            best_sigma = sigma\n",
    "\n",
    "        # Print result\n",
    "        print(\"C: %f Sigma: %f Train accuracy: %f Valid accuracy: %f\"%(C, sigma, tra, val))\n",
    "\n",
    "print(\"Best C: %f Best sigma: %f\"%(best_C, best_sigma))"
   ]
  },
  {
   "cell_type": "code",
   "execution_count": 16,
   "metadata": {},
   "outputs": [
    {
     "name": "stderr",
     "output_type": "stream",
     "text": [
      "100%|██████████| 10/10 [00:01<00:00,  5.87it/s]\n"
     ]
    }
   ],
   "source": [
    "args['C'] = best_C\n",
    "args['sigma'] = best_sigma\n",
    "args['part'] = False\n",
    "models, train_acc_list, valid_acc_list = \\\n",
    "            train_step(args, trainFeature, trainy)"
   ]
  },
  {
   "cell_type": "code",
   "execution_count": 17,
   "metadata": {},
   "outputs": [],
   "source": [
    "testX, testy = get_data(dataset=args['dataset'], train=False, dataroot=args['dataroot'])\n",
    "if args['dataset'] == 'cifar10':\n",
    "    testX = testX.reshape((-1, 32, 32, 3), order='F')\n",
    "testFeature = get_bow(testX, cluster, num_dict=args['dict_size'])"
   ]
  },
  {
   "cell_type": "code",
   "execution_count": 18,
   "metadata": {},
   "outputs": [
    {
     "name": "stderr",
     "output_type": "stream",
     "text": [
      " 90%|█████████ | 9/10 [00:01<00:00,  5.61it/s]\n"
     ]
    }
   ],
   "source": [
    "test_acc_list = test_step(args, testFeature, testy, models)"
   ]
  },
  {
   "cell_type": "code",
   "execution_count": 19,
   "metadata": {},
   "outputs": [
    {
     "name": "stdout",
     "output_type": "stream",
     "text": [
      "Test average accuracy: 74.0\n"
     ]
    }
   ],
   "source": [
    "print(\"Test average accuracy:\", sum(test_acc_list) / len(test_acc_list))"
   ]
  }
 ],
 "metadata": {
  "interpreter": {
   "hash": "e12f6ab8f072a3343ec40e7c2da6d7bef24e88ada4fc34ffff4c29dc2d68ce9e"
  },
  "kernelspec": {
   "display_name": "Python 3",
   "language": "python",
   "name": "python3"
  },
  "language_info": {
   "codemirror_mode": {
    "name": "ipython",
    "version": 3
   },
   "file_extension": ".py",
   "mimetype": "text/x-python",
   "name": "python",
   "nbconvert_exporter": "python",
   "pygments_lexer": "ipython3",
   "version": "3.8.8"
  }
 },
 "nbformat": 4,
 "nbformat_minor": 2
}
