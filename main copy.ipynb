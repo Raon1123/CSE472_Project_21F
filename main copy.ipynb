{
 "cells": [
  {
   "cell_type": "code",
   "execution_count": 1,
   "metadata": {},
   "outputs": [],
   "source": [
    "import pickle\n",
    "\n",
    "from train_model import train_step, test_step\n",
    "from utils.load_data import get_data\n",
    "from utils.make_dict import train_bow, get_bow"
   ]
  },
  {
   "cell_type": "code",
   "execution_count": 2,
   "metadata": {},
   "outputs": [],
   "source": [
    "args ={'dataset': 'cifar10',\n",
    "       'dataroot': './data',\n",
    "       'model': 'randomforest',\n",
    "       'kernel': 'gaussian',\n",
    "       'validation': 0.1,\n",
    "       'C': 5.0,\n",
    "       'sigma': 1.0,\n",
<<<<<<< HEAD
    "       'batch': 5000,\n",
    "       'dict_size': 100,\n",
    "       'train': True,\n",
    "       'load_cluster': False,\n",
    "       'cuda': True,\n",
    "       'depth': 50,\n",
    "       'forest': 10,\n",
    "       'bag_size': 5000\n",
=======
    "       'batch': 1000,\n",
    "       'dict_size': 100,\n",
    "       'train': True,\n",
    "       'load_cluster': True\n",
>>>>>>> parent of f48055a (modify dtree)
    "       }"
   ]
  },
  {
   "cell_type": "code",
   "execution_count": 3,
   "metadata": {},
   "outputs": [
    {
     "data": {
      "text/plain": [
       "'\\ntrainX, trainy = get_data(dataset=args[\\'dataset\\'], train=True, dataroot=args[\\'dataroot\\'])\\ntrainX = trainX.reshape((-1, 32, 32, 3), order=\\'F\\')\\n\\nif args[\\'load_cluster\\']:\\n    with open(\"./cluster.dump\", \"rb\") as f:\\n        cluster = pickle.load(f)\\nelse:\\n    cluster = train_bow(trainX, num_dict=args[\\'dict_size\\'], num_select=10000)\\n    with open(\"./cluster.dump\", \"wb\") as f:\\n        pickle.dump(cluster, f)\\n\\ntrainFeature = get_bow(trainX, cluster, num_dict=args[\\'dict_size\\'])\\n'"
      ]
     },
     "execution_count": 3,
     "metadata": {},
     "output_type": "execute_result"
    }
   ],
   "source": [
    "\"\"\"\n",
    "trainX, trainy = get_data(dataset=args['dataset'], train=True, dataroot=args['dataroot'])\n",
<<<<<<< HEAD
    "\n",
    "if args['dataset'] == 'cifar10':\n",
    "    trainX = trainX.reshape((-1, 32, 32, 3), order='F')\n",
=======
    "trainX = trainX.reshape((-1, 32, 32, 3), order='F')\n",
>>>>>>> parent of f48055a (modify dtree)
    "\n",
    "if args['load_cluster']:\n",
    "    with open(\"./cluster.dump\", \"rb\") as f:\n",
    "        cluster = pickle.load(f)\n",
    "else:\n",
    "    cluster = train_bow(trainX, num_dict=args['dict_size'], num_select=10000)\n",
    "    with open(\"./cluster.dump\", \"wb\") as f:\n",
    "        pickle.dump(cluster, f)\n",
    "\n",
<<<<<<< HEAD
    "trainFeature = get_bow(trainX, cluster, num_dict=args['dict_size'])"
=======
    "trainFeature = get_bow(trainX, cluster, num_dict=argns['dict_size'])\n",
    "\"\"\""
>>>>>>> parent of f48055a (modify dtree)
   ]
  },
  {
   "cell_type": "code",
   "execution_count": 4,
   "metadata": {},
   "outputs": [
    {
     "name": "stderr",
     "output_type": "stream",
     "text": [
      "100%|██████████| 10/10 [10:59<00:00, 65.98s/it]\n",
      "100%|██████████| 10/10 [00:06<00:00,  1.66it/s]\n",
      "100%|██████████| 10/10 [00:00<00:00, 13.15it/s]\n"
     ]
    }
   ],
   "source": [
    "if args['model'] == 'custom_SVM' or args['model'] == 'sklearn_SVM':\n",
    "    hyper_C = [0.1, 0.5, 1.0, 5.0]\n",
    "    hyper_sigma = [1e-2, 0.5, 1.0, 5.0] \n",
    "\n",
    "    best_C = None\n",
    "    best_sigma = None\n",
    "    best_valid = 0.0\n",
    "\n",
    "    for C in hyper_C:\n",
    "        for sigma in hyper_sigma:\n",
    "            # Test hyperparameter\n",
    "            args['C'] = C\n",
    "            args['sigma'] = sigma\n",
    "\n",
    "            # Get result\n",
    "            _, train_acc_list, valid_acc_list  = \\\n",
    "                train_step(args, trainFeature, trainy)\n",
    "\n",
    "            # Evaluation parameter\n",
    "            tra = sum(train_acc_list) / len(train_acc_list)\n",
    "            val = sum(valid_acc_list) / len(valid_acc_list)\n",
    "\n",
    "            if val > best_valid:\n",
    "                best_valid = val\n",
    "                best_C = C\n",
    "                best_sigma = sigma\n",
    "\n",
    "            # Print result\n",
    "            print(\"C: %f Sigma: %f Train accuracy: %f Valid accuracy: %f\"%(C, sigma, tra, val))\n",
    "\n",
    "    print(\"Best C: %f Best sigma: %f\"%(best_C, best_sigma))\n",
    "\n",
    "    args['C'] = best_C\n",
    "    args['sigma'] = best_sigma\n",
    "    args['part'] = False\n",
    "    models, train_acc_list, valid_acc_list = \\\n",
    "                train_step(args, trainFeature, trainy)\n",
    "else:\n",
    "    models, train_acc_list, valid_acc_list  = \\\n",
    "                train_step(args, trainFeature, trainy)"
   ]
  },
  {
   "cell_type": "code",
   "execution_count": 5,
   "metadata": {},
   "outputs": [],
   "source": [
<<<<<<< HEAD
    "testX, testy = get_data(dataset=args['dataset'], train=False, dataroot=args['dataroot'])\n",
    "if args['dataset'] == 'cifar10':\n",
    "    testX = testX.reshape((-1, 32, 32, 3), order='F')\n",
    "testFeature = get_bow(testX, cluster, num_dict=args['dict_size'])"
=======
    "model = RandForest(forest=10, bag_size=10000)\n",
    "#model = DecisionTree(depth=30)"
>>>>>>> parent of f48055a (modify dtree)
   ]
  },
  {
   "cell_type": "code",
   "execution_count": 6,
   "metadata": {},
   "outputs": [
    {
<<<<<<< HEAD
     "name": "stderr",
     "output_type": "stream",
     "text": [
      "100%|██████████| 10/10 [00:01<00:00,  9.36it/s]\n"
     ]
=======
     "data": {
      "text/plain": [
       "<models.decisiontree.DecisionTree at 0x20aa9de4b08>"
      ]
     },
     "execution_count": 6,
     "metadata": {},
     "output_type": "execute_result"
>>>>>>> parent of f48055a (modify dtree)
    }
   ],
   "source": [
    "pred = models.predict(testFeature)"
   ]
  },
  {
   "cell_type": "code",
   "execution_count": 7,
   "metadata": {},
   "outputs": [
    {
<<<<<<< HEAD
     "name": "stderr",
     "output_type": "stream",
     "text": [
      "100%|██████████| 10/10 [00:01<00:00,  9.66it/s]\n"
=======
     "name": "stdout",
     "output_type": "stream",
     "text": [
      "10.056\n"
>>>>>>> parent of f48055a (modify dtree)
     ]
    }
   ],
   "source": [
    "test_acc_list, test_prec_list, test_recall_list, test_f1_list = test_step(args, testFeature, testy, models)"
   ]
  },
  {
   "cell_type": "code",
   "execution_count": 8,
   "metadata": {},
<<<<<<< HEAD
=======
   "outputs": [],
   "source": [
    "with open(\"./cluster.dump\", \"rb\") as f:\n",
    "    cluster = pickle.load(f)\n",
    "testX, testy = get_data(dataset=args['dataset'], train=False, dataroot=args['dataroot'])\n",
    "if args['dataset'] == 'cifar10':\n",
    "    testX = testX.reshape((-1, 32, 32, 3), order='F')\n",
    "testFeature = get_bow(testX, cluster, num_dict=args['dict_size'])"
   ]
  },
  {
   "cell_type": "code",
   "execution_count": 9,
   "metadata": {},
   "outputs": [],
   "source": [
    "pred = model.predict(testFeature)"
   ]
  },
  {
   "cell_type": "code",
   "execution_count": 10,
   "metadata": {},
   "outputs": [
    {
     "data": {
      "text/plain": [
       "array([2., 0., 7., ..., 0., 7., 7.])"
      ]
     },
     "execution_count": 10,
     "metadata": {},
     "output_type": "execute_result"
    }
   ],
   "source": [
    "pred"
   ]
  },
  {
   "cell_type": "code",
   "execution_count": 11,
   "metadata": {},
   "outputs": [],
   "source": [
    "boolean = (pred == testy)"
   ]
  },
  {
   "cell_type": "code",
   "execution_count": 12,
   "metadata": {},
>>>>>>> parent of f48055a (modify dtree)
   "outputs": [
    {
     "name": "stdout",
     "output_type": "stream",
     "text": [
<<<<<<< HEAD
      "mA: 0.05908999994091\n",
      "mP: 0.13497932935718165\n",
      "mR: 0.5843576972045138\n",
      "mF1: 0.21913495115324774\n"
=======
      "9.370000000000001\n"
>>>>>>> parent of f48055a (modify dtree)
     ]
    }
   ],
   "source": [
    "print(\"mA:\", sum(test_acc_list) / len(test_acc_list))\n",
    "print(\"mP:\", sum(test_prec_list) / len(test_prec_list))\n",
    "print(\"mR:\", sum(test_recall_list) / len(test_recall_list))\n",
    "print(\"mF1:\", sum(test_f1_list) / len(test_f1_list))"
   ]
  },
  {
   "cell_type": "code",
   "execution_count": null,
   "metadata": {},
   "outputs": [],
   "source": []
  }
 ],
 "metadata": {
  "interpreter": {
   "hash": "e12f6ab8f072a3343ec40e7c2da6d7bef24e88ada4fc34ffff4c29dc2d68ce9e"
  },
  "kernelspec": {
   "display_name": "Python [conda env:svm]",
   "language": "python",
   "name": "python3"
  },
  "language_info": {
   "codemirror_mode": {
    "name": "ipython",
    "version": 3
   },
   "file_extension": ".py",
   "mimetype": "text/x-python",
   "name": "python",
   "nbconvert_exporter": "python",
   "pygments_lexer": "ipython3",
   "version": "3.7.11"
  }
 },
 "nbformat": 4,
 "nbformat_minor": 2
}
