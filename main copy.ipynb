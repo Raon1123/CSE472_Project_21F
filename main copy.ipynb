{
 "cells": [
  {
   "cell_type": "code",
<<<<<<< HEAD
<<<<<<< HEAD
   "execution_count": 1,
=======
   "execution_count": null,
>>>>>>> parent of c788f4c (modify model)
=======
   "execution_count": 1,
>>>>>>> parent of 46d8f32 (update model)
   "metadata": {},
   "outputs": [],
   "source": [
    "import numpy as np\n",
    "import pickle\n",
    "\n",
    "#from train_model import train_step, test_step\n",
    "from models.decisiontree import DecisionTree, RandForest\n",
    "from utils.load_data import get_data\n",
    "from utils.make_dict import train_bow, get_bow"
   ]
  },
  {
   "cell_type": "code",
<<<<<<< HEAD
<<<<<<< HEAD
   "execution_count": 2,
=======
   "execution_count": null,
>>>>>>> parent of c788f4c (modify model)
=======
   "execution_count": 2,
>>>>>>> parent of 46d8f32 (update model)
   "metadata": {},
   "outputs": [],
   "source": [
    "args ={'dataset': 'cifar10',\n",
    "       'dataroot': './data',\n",
    "       'model': 'custom_SVM',\n",
    "       'kernel': 'gaussian',\n",
    "       'validation': 0.1,\n",
<<<<<<< HEAD
<<<<<<< HEAD
<<<<<<< HEAD
=======
>>>>>>> parent of f48055a (modify dtree)
    "       'C': 5.0,\n",
    "       'sigma': 1.0,\n",
    "       'batch': 1000,\n",
    "       'dict_size': 100,\n",
    "       'train': True,\n",
    "       'load_cluster': True\n",
<<<<<<< HEAD
=======
    "       'dict_size': 300,\n",
=======
    "       'dict_size': 200,\n",
>>>>>>> parent of 46d8f32 (update model)
    "       'load_cluster': False\n",
>>>>>>> parent of c788f4c (modify model)
=======
>>>>>>> parent of f48055a (modify dtree)
    "       }"
   ]
  },
  {
   "cell_type": "code",
<<<<<<< HEAD
<<<<<<< HEAD
   "execution_count": 3,
   "metadata": {},
   "outputs": [
    {
     "data": {
      "text/plain": [
       "'\\ntrainX, trainy = get_data(dataset=args[\\'dataset\\'], train=True, dataroot=args[\\'dataroot\\'])\\ntrainX = trainX.reshape((-1, 32, 32, 3), order=\\'F\\')\\n\\nif args[\\'load_cluster\\']:\\n    with open(\"./cluster.dump\", \"rb\") as f:\\n        cluster = pickle.load(f)\\nelse:\\n    cluster = train_bow(trainX, num_dict=args[\\'dict_size\\'], num_select=10000)\\n    with open(\"./cluster.dump\", \"wb\") as f:\\n        pickle.dump(cluster, f)\\n\\ntrainFeature = get_bow(trainX, cluster, num_dict=args[\\'dict_size\\'])\\n'"
      ]
     },
     "execution_count": 3,
     "metadata": {},
     "output_type": "execute_result"
    }
   ],
<<<<<<< HEAD
   "source": [
    "\"\"\"\n",
    "trainX, trainy = get_data(dataset=args['dataset'], train=True, dataroot=args['dataroot'])\n",
    "trainX = trainX.reshape((-1, 32, 32, 3), order='F')\n",
=======
   "execution_count": null,
=======
   "execution_count": 3,
>>>>>>> parent of 46d8f32 (update model)
   "metadata": {},
   "outputs": [],
=======
>>>>>>> parent of f48055a (modify dtree)
   "source": [
    "\"\"\"\n",
    "trainX, trainy = get_data(dataset=args['dataset'], train=True, dataroot=args['dataroot'])\n",
<<<<<<< HEAD
    "if args['dataset'] == 'cifar10':\n",
    "    trainX = trainX.reshape((-1, 32, 32, 3), order='F')\n",
>>>>>>> parent of c788f4c (modify model)
=======
    "trainX = trainX.reshape((-1, 32, 32, 3), order='F')\n",
>>>>>>> parent of f48055a (modify dtree)
    "\n",
    "if args['load_cluster']:\n",
    "    with open(\"./cluster.dump\", \"rb\") as f:\n",
    "        cluster = pickle.load(f)\n",
    "else:\n",
    "    cluster = train_bow(trainX, num_dict=args['dict_size'], num_select=10000)\n",
    "    with open(\"./cluster.dump\", \"wb\") as f:\n",
    "        pickle.dump(cluster, f)\n",
    "\n",
<<<<<<< HEAD
<<<<<<< HEAD
<<<<<<< HEAD
    "trainFeature = get_bow(trainX, cluster, num_dict=argns['dict_size'])\n",
    "\"\"\""
=======
    "trainFeature = get_bow(trainX, cluster, num_dict=args['dict_size'])\n"
>>>>>>> parent of 46d8f32 (update model)
=======
    "trainFeature = get_bow(trainX, cluster, num_dict=argns['dict_size'])\n",
    "\"\"\""
>>>>>>> parent of f48055a (modify dtree)
   ]
  },
  {
   "cell_type": "markdown",
   "metadata": {},
   "source": []
  },
  {
   "cell_type": "code",
   "execution_count": 4,
   "metadata": {},
   "outputs": [],
   "source": [
    "_, trainy = get_data(dataset=args['dataset'], train=True, dataroot=args['dataroot'])\n",
    "with open(\"./feature.dump\", \"rb\") as f:\n",
    "    trainFeature = pickle.load(f)"
<<<<<<< HEAD
=======
    "trainFeature = get_bow(trainX, cluster, num_dict=args['dict_size'])"
=======
>>>>>>> parent of 46d8f32 (update model)
   ]
  },
  {
   "cell_type": "code",
   "execution_count": 5,
   "metadata": {},
   "outputs": [],
   "source": [
    "model = RandForest(forest=10, bag_size=10000)\n",
<<<<<<< HEAD
    "#model = DecisionTree(depth=150)"
>>>>>>> parent of c788f4c (modify model)
   ]
  },
  {
   "cell_type": "code",
<<<<<<< HEAD
<<<<<<< HEAD
   "execution_count": 5,
   "metadata": {},
   "outputs": [],
   "source": [
    "model = RandForest(forest=10, bag_size=10000)\n",
=======
>>>>>>> parent of f48055a (modify dtree)
    "#model = DecisionTree(depth=30)"
   ]
  },
  {
   "cell_type": "code",
   "execution_count": 6,
   "metadata": {},
   "outputs": [
    {
<<<<<<< HEAD
     "data": {
      "text/plain": [
       "<models.decisiontree.DecisionTree at 0x20aa9de4b08>"
      ]
     },
     "execution_count": 6,
     "metadata": {},
     "output_type": "execute_result"
    }
   ],
   "source": [
=======
   "execution_count": null,
=======
   "execution_count": 6,
>>>>>>> parent of 46d8f32 (update model)
   "metadata": {},
   "outputs": [
    {
     "name": "stderr",
     "output_type": "stream",
     "text": [
      "100%|██████████| 10/10 [30:34<00:00, 183.49s/it]\n"
     ]
    },
    {
=======
>>>>>>> parent of f48055a (modify dtree)
     "data": {
      "text/plain": [
       "<models.decisiontree.DecisionTree at 0x20aa9de4b08>"
      ]
     },
     "execution_count": 6,
     "metadata": {},
     "output_type": "execute_result"
    }
   ],
   "source": [
>>>>>>> parent of c788f4c (modify model)
    "model.fit(trainFeature, trainy)"
   ]
  },
  {
   "cell_type": "code",
<<<<<<< HEAD
<<<<<<< HEAD
   "execution_count": 7,
   "metadata": {},
   "outputs": [
    {
<<<<<<< HEAD
     "name": "stdout",
     "output_type": "stream",
     "text": [
      "10.056\n"
     ]
    }
   ],
   "source": [
    "y = model.predict(trainFeature)\n",
    "boolean = (y == trainy)\n",
=======
   "execution_count": null,
=======
   "execution_count": 7,
>>>>>>> parent of 46d8f32 (update model)
   "metadata": {},
   "outputs": [
    {
     "name": "stderr",
     "output_type": "stream",
     "text": [
      "100%|██████████| 10/10 [00:18<00:00,  1.90s/it]"
     ]
    },
    {
=======
>>>>>>> parent of f48055a (modify dtree)
     "name": "stdout",
     "output_type": "stream",
     "text": [
      "10.056\n"
     ]
    }
   ],
   "source": [
<<<<<<< HEAD
    "prediction, pred = model.predict(trainFeature)"
   ]
  },
  {
   "cell_type": "code",
   "execution_count": null,
   "metadata": {},
   "outputs": [],
   "source": [
    "trainFeature.shape"
   ]
  },
  {
   "cell_type": "code",
   "execution_count": null,
   "metadata": {},
   "outputs": [],
   "source": [
    "boolean = (pred == trainy)\n",
>>>>>>> parent of c788f4c (modify model)
=======
    "y = model.predict(trainFeature)\n",
    "boolean = (y == trainy)\n",
>>>>>>> parent of 46d8f32 (update model)
    "print(np.sum(boolean) / trainy.shape[0] * 100)"
   ]
  },
  {
   "cell_type": "code",
<<<<<<< HEAD
<<<<<<< HEAD
   "execution_count": 8,
=======
   "execution_count": null,
>>>>>>> parent of c788f4c (modify model)
=======
   "execution_count": 8,
>>>>>>> parent of 46d8f32 (update model)
   "metadata": {},
   "outputs": [],
   "source": [
    "with open(\"./cluster.dump\", \"rb\") as f:\n",
    "    cluster = pickle.load(f)\n",
    "testX, testy = get_data(dataset=args['dataset'], train=False, dataroot=args['dataroot'])\n",
    "if args['dataset'] == 'cifar10':\n",
    "    testX = testX.reshape((-1, 32, 32, 3), order='F')\n",
    "testFeature = get_bow(testX, cluster, num_dict=args['dict_size'])"
   ]
  },
  {
   "cell_type": "code",
<<<<<<< HEAD
<<<<<<< HEAD
   "execution_count": 9,
=======
   "execution_count": null,
>>>>>>> parent of c788f4c (modify model)
=======
   "execution_count": 9,
>>>>>>> parent of 46d8f32 (update model)
   "metadata": {},
   "outputs": [],
   "source": [
    "pred = model.predict(testFeature)"
   ]
  },
  {
   "cell_type": "code",
<<<<<<< HEAD
<<<<<<< HEAD
   "execution_count": 10,
   "metadata": {},
   "outputs": [
    {
     "data": {
      "text/plain": [
       "array([2., 0., 7., ..., 0., 7., 7.])"
      ]
     },
     "execution_count": 10,
     "metadata": {},
     "output_type": "execute_result"
    }
   ],
   "source": [
    "pred"
   ]
  },
  {
   "cell_type": "code",
   "execution_count": 11,
   "metadata": {},
   "outputs": [],
   "source": [
    "boolean = (pred == testy)"
   ]
  },
  {
   "cell_type": "code",
   "execution_count": 12,
   "metadata": {},
   "outputs": [
    {
     "name": "stdout",
     "output_type": "stream",
     "text": [
      "9.370000000000001\n"
<<<<<<< HEAD
     ]
    }
   ],
   "source": [
    "print(np.sum(boolean) / testy.shape[0] * 100)"
=======
   "execution_count": null,
=======
   "execution_count": 10,
>>>>>>> parent of 46d8f32 (update model)
   "metadata": {},
   "outputs": [
    {
     "data": {
      "text/plain": [
       "array([1, 1, 1, ..., 1, 1, 1], dtype=int64)"
      ]
     },
     "execution_count": 10,
     "metadata": {},
     "output_type": "execute_result"
    }
   ],
   "source": [
<<<<<<< HEAD
    "boolean = (pred[1] == testy)"
>>>>>>> parent of c788f4c (modify model)
=======
    "pred"
>>>>>>> parent of 46d8f32 (update model)
   ]
  },
  {
   "cell_type": "code",
   "execution_count": 11,
   "metadata": {},
   "outputs": [],
<<<<<<< HEAD
   "source": []
=======
   "source": [
    "boolean = (pred == testy)"
   ]
  },
  {
   "cell_type": "code",
   "execution_count": 12,
   "metadata": {},
   "outputs": [
    {
     "name": "stdout",
     "output_type": "stream",
     "text": [
      "11.35\n"
=======
>>>>>>> parent of f48055a (modify dtree)
     ]
    }
   ],
   "source": [
    "print(np.sum(boolean) / testy.shape[0] * 100)"
   ]
<<<<<<< HEAD
>>>>>>> parent of c788f4c (modify model)
=======
  },
  {
   "cell_type": "code",
   "execution_count": null,
   "metadata": {},
   "outputs": [],
   "source": []
>>>>>>> parent of f48055a (modify dtree)
  }
 ],
 "metadata": {
  "interpreter": {
   "hash": "e12f6ab8f072a3343ec40e7c2da6d7bef24e88ada4fc34ffff4c29dc2d68ce9e"
  },
  "kernelspec": {
   "display_name": "Python 3",
   "language": "python",
   "name": "python3"
  },
  "language_info": {
   "codemirror_mode": {
    "name": "ipython",
    "version": 3
   },
   "file_extension": ".py",
   "mimetype": "text/x-python",
   "name": "python",
   "nbconvert_exporter": "python",
   "pygments_lexer": "ipython3",
   "version": "3.7.11"
  }
 },
 "nbformat": 4,
 "nbformat_minor": 2
}
